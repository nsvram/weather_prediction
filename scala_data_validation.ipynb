{
 "cells": [
  {
   "cell_type": "code",
   "execution_count": 1,
   "metadata": {},
   "outputs": [
    {
     "data": {
      "text/plain": [
       "Array(707, 930, 525, 975, 517)"
      ]
     },
     "execution_count": 1,
     "metadata": {},
     "output_type": "execute_result"
    }
   ],
   "source": [
    "val rdd = sc.parallelize(0 to 999)\n",
    "rdd.takeSample(false, 5)"
   ]
  },
  {
   "cell_type": "code",
   "execution_count": 26,
   "metadata": {},
   "outputs": [],
   "source": [
    "val df_weather_predicted = spark.read.format(\"com.databricks.spark.csv\").option(\"sep\", \"|\").option(\"header\", \"false\").load(\"data/IATA_weather_prediction.csv\")"
   ]
  },
  {
   "cell_type": "code",
   "execution_count": 29,
   "metadata": {},
   "outputs": [
    {
     "data": {
      "text/plain": [
       "[ADL,-34.92110000000002,138.6216,2018-01-01,Moderate,29.48709677419355,1012.8194892473116,37.98454301075269]"
      ]
     },
     "execution_count": 29,
     "metadata": {},
     "output_type": "execute_result"
    }
   ],
   "source": [
    "df_weather_predicted.head()"
   ]
  },
  {
   "cell_type": "code",
   "execution_count": 30,
   "metadata": {},
   "outputs": [],
   "source": [
    "val col_names = Seq(\"IATA_code\", \"Lat\",\"Lon\",\"Local_Time\",\"Condition\",\"Temperature\",\"Pressure\" ,\"Humidity\")\n",
    "val df_weather_predicted_col = df_weather_predicted.toDF(col_names: _*)\n",
    "df_weather_predicted_col.createOrReplaceTempView(\"df_weather_predicted_col\")"
   ]
  },
  {
   "cell_type": "code",
   "execution_count": 37,
   "metadata": {},
   "outputs": [
    {
     "name": "stdout",
     "output_type": "stream",
     "text": [
      "+---------+-----------+\n",
      "|IATA_code|cnt_results|\n",
      "+---------+-----------+\n",
      "|      BNE|        730|\n",
      "|      SYD|        730|\n",
      "|      PER|        730|\n",
      "|      MEL|        730|\n",
      "|      OOL|        730|\n",
      "|      ADL|        730|\n",
      "|      CBR|        730|\n",
      "+---------+-----------+\n",
      "\n"
     ]
    }
   ],
   "source": [
    "val validation_count_airport = spark.sql(\"select IATA_code, count(*) cnt_results from df_weather_predicted_col group by IATA_code\")\n",
    "validation_count_airport.show()\n"
   ]
  },
  {
   "cell_type": "code",
   "execution_count": 36,
   "metadata": {},
   "outputs": [
    {
     "name": "stdout",
     "output_type": "stream",
     "text": [
      "+-----------+\n",
      "|cnt_results|\n",
      "+-----------+\n",
      "|       5110|\n",
      "+-----------+\n",
      "\n"
     ]
    }
   ],
   "source": [
    "val validation_count = spark.sql(\"select count(*) cnt_results from df_weather_predicted_col\")\n",
    "validation_count.show()"
   ]
  },
  {
   "cell_type": "code",
   "execution_count": 42,
   "metadata": {},
   "outputs": [
    {
     "name": "stdout",
     "output_type": "stream",
     "text": [
      "\r",
      "                                                                                \r",
      "+-----------+\n",
      "|cnt_results|\n",
      "+-----------+\n",
      "|          0|\n",
      "+-----------+\n",
      "\n"
     ]
    }
   ],
   "source": [
    "val validation_isnull = spark.sql(\"select count(*) cnt_results from df_weather_predicted_col where Lat is null or Lon is null\")\n",
    "validation_isnull.show()"
   ]
  },
  {
   "cell_type": "code",
   "execution_count": null,
   "metadata": {},
   "outputs": [],
   "source": [
    "#query_res.write.csv(\"data/testing.csv\")"
   ]
  }
 ],
 "metadata": {
  "kernelspec": {
   "display_name": "Apache Toree - Scala",
   "language": "scala",
   "name": "apache_toree_scala"
  },
  "language_info": {
   "file_extension": ".scala",
   "name": "scala",
   "version": "2.11.8"
  }
 },
 "nbformat": 4,
 "nbformat_minor": 2
}
