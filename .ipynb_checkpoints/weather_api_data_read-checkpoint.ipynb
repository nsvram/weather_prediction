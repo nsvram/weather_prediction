{
 "cells": [
  {
   "cell_type": "code",
   "execution_count": 1,
   "metadata": {},
   "outputs": [],
   "source": [
    "import requests\n",
    "import datetime\n",
    "import re\n",
    "import pandas as pd\n",
    "import pyspark\n",
    "from pyspark.sql import functions as f, SparkSession,SQLContext\n",
    "from pyspark.sql.types import StructType, StructField, StringType\n",
    "\n",
    "sc = pyspark.SparkContext('local[*]')\n",
    "spark      =  SparkSession(sc)"
   ]
  },
  {
   "cell_type": "code",
   "execution_count": 2,
   "metadata": {},
   "outputs": [],
   "source": [
    "def return_yyyymm(starting_yyyy,ending_yyyy):\n",
    "    return [(int((str(i) + format(j, '02d')))) for i in range(starting_yyyy,ending_yyyy) for j in range(1,13)]"
   ]
  },
  {
   "cell_type": "code",
   "execution_count": 4,
   "metadata": {},
   "outputs": [],
   "source": [
    "def extract_weather(lst_yyyymm,lst_stations):\n",
    "    weather_header=  [\n",
    "              \"date\",\n",
    "              \"minimum_temperature\",\n",
    "              \"maximum_temperature\",\n",
    "              \"rainfall_mm\",\n",
    "              \"evaporation_mm\",\n",
    "              \"sunshine_hours\",\n",
    "              \"direction_of_maximum_wind_gust\",\n",
    "              \"speed_of_maximum_wind_gust_kmh\",\n",
    "              \"time_of_maximum_wind_gust\",\n",
    "              \"9am_temperature\",\n",
    "              \"9am_relative_humidity\",\n",
    "              \"9am_cloud_amount_oktas\",\n",
    "              \"9am_wind_direction\",\n",
    "              \"9am_wind_speed_kmh\",\n",
    "              \"9am_msl_pressure_hpa\",\n",
    "              \"3pm_temperature\",\n",
    "              \"3pm_relative_humidity\",\n",
    "              \"3pm_cloud_amount_oktas\",\n",
    "              \"3pm_wind_direction\",\n",
    "              \"3pm_wind_speed_kmh\",\n",
    "              \"3pm_msl_pressure_hpa\"]\n",
    "    weather_header_1 = [\"Empty\"] + [i for i in weather_header]\n",
    "    list_pd_obs =  []    \n",
    "    for stations_no in lst_stations:\n",
    "        # Run the loop for year - 12 months\n",
    "        for yyyymm in lst_yyyymm:\n",
    "            fcsv =\"http://www.bom.gov.au/climate/dwo/{0}/text/IDCJDW{1}.{0}.csv\".format(yyyymm,stations_no)\n",
    "            #print(fcsv)\n",
    "            responsed = requests.get(fcsv)      \n",
    "            lst_responsed = responsed.content.decode('windows-1252').strip().split(\"\\n\")    \n",
    "            if ([tup[0] for tup in  enumerate(lst_responsed) if '\"Date\",' in tup[1]]):\n",
    "                \n",
    "                header_position          =  ([tup[0] for tup in  enumerate(lst_responsed) if '\"Date\",' in tup[1]])[0]\n",
    "                #print(header_position)\n",
    "                list_data = lst_responsed[header_position+1:]\n",
    "                lst_station_id_name = lst_responsed[header_position-2].split(\"from\")[1].replace('\"\\r',\"\").replace(\"}\",\"\").split(\"{station \")\n",
    "                station_name = lst_station_id_name[0] \n",
    "                station_id   = lst_station_id_name[1] \n",
    "                pd_weather   = pd.DataFrame([i.replace(\"\\r\",\"\").split(\",\") for i in list_data],columns=weather_header_1)    \n",
    "                pd_weather[\"station_name\"]  = station_name\n",
    "                pd_weather[\"station_id\"]    = station_id\n",
    "                list_pd_obs.append(pd_weather)\n",
    "            else:\n",
    "                print(\"No data for the period {0}\".format(yyyymm))\n",
    "    pd_all = pd.concat(list_pd_obs)\n",
    "    pd_all[\"station_id\"] = pd_all[\"station_id\"].fillna(0.0).astype(int)\n",
    "    \n",
    "    # Import Weather Master data which has details about the weather station - join by station_id\n",
    "    weather_master = pd.read_csv(\"/home/jovyan/data/all_station_master.csv\")\n",
    "    weather_master[\"station_id\"] = weather_master[\"Site\"].fillna(0.0).astype(int)\n",
    "    \n",
    "    # join the weather master table using station id  \n",
    "    new_df = pd.merge(pd_all, weather_master,  how='inner', left_on=['station_id'], right_on = ['station_id'])\n",
    "    df_bom = new_df.drop('Empty', 1)\n",
    "    \n",
    "    # Save the PD data frame using Spark as csv file with valid columns\n",
    "    df_bom_schema   = StructType([StructField(col,StringType(),True) for col in df_bom.columns])\n",
    "    df_bom_obs  = spark.createDataFrame(df_bom,schema=df_bom_schema)\n",
    "    df_bom_obs.write.csv('data/aus_weather_extract.csv',mode=\"overwrite\")"
   ]
  },
  {
   "cell_type": "code",
   "execution_count": 5,
   "metadata": {},
   "outputs": [
    {
     "name": "stdout",
     "output_type": "stream",
     "text": [
      "No data for the period 201701\n",
      "No data for the period 201701\n",
      "No data for the period 201701\n",
      "No data for the period 201701\n",
      "No data for the period 201701\n",
      "No data for the period 201701\n",
      "No data for the period 201701\n",
      "No data for the period 201701\n",
      "No data for the period 201701\n",
      "No data for the period 201701\n",
      "No data for the period 201701\n",
      "No data for the period 201701\n",
      "No data for the period 201701\n",
      "No data for the period 201701\n",
      "No data for the period 201701\n",
      "No data for the period 201701\n",
      "No data for the period 201701\n",
      "No data for the period 201701\n",
      "No data for the period 201701\n",
      "No data for the period 201701\n",
      "No data for the period 201701\n",
      "No data for the period 201701\n"
     ]
    }
   ],
   "source": [
    "lst_stations = [2801,2802,2124,2111,2098,2146,3033,3005,2002,3008,4019,4024,4128,4050,5002,5041,5059,5055,6111,6001,6061,6015]\n",
    "extract_weather(return_yyyymm(2017,2018),lst_stations) "
   ]
  },
  {
   "cell_type": "code",
   "execution_count": null,
   "metadata": {},
   "outputs": [],
   "source": []
  }
 ],
 "metadata": {
  "kernelspec": {
   "display_name": "Python 3",
   "language": "python",
   "name": "python3"
  },
  "language_info": {
   "codemirror_mode": {
    "name": "ipython",
    "version": 3
   },
   "file_extension": ".py",
   "mimetype": "text/x-python",
   "name": "python",
   "nbconvert_exporter": "python",
   "pygments_lexer": "ipython3",
   "version": "3.6.3"
  }
 },
 "nbformat": 4,
 "nbformat_minor": 2
}
